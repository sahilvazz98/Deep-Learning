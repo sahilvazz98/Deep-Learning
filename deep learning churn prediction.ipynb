{
 "cells": [
  {
   "cell_type": "markdown",
   "metadata": {},
   "source": [
    "## Churn Prediction"
   ]
  },
  {
   "cell_type": "code",
   "execution_count": 1,
   "metadata": {},
   "outputs": [
    {
     "name": "stderr",
     "output_type": "stream",
     "text": [
      "Using TensorFlow backend.\n"
     ]
    }
   ],
   "source": [
    "import keras"
   ]
  },
  {
   "cell_type": "code",
   "execution_count": 2,
   "metadata": {},
   "outputs": [],
   "source": [
    "import pandas as pd\n",
    "import numpy as np \n",
    "import matplotlib.pyplot as plt"
   ]
  },
  {
   "cell_type": "code",
   "execution_count": 31,
   "metadata": {
    "scrolled": true
   },
   "outputs": [
    {
     "data": {
      "text/html": [
       "<div>\n",
       "<style scoped>\n",
       "    .dataframe tbody tr th:only-of-type {\n",
       "        vertical-align: middle;\n",
       "    }\n",
       "\n",
       "    .dataframe tbody tr th {\n",
       "        vertical-align: top;\n",
       "    }\n",
       "\n",
       "    .dataframe thead th {\n",
       "        text-align: right;\n",
       "    }\n",
       "</style>\n",
       "<table border=\"1\" class=\"dataframe\">\n",
       "  <thead>\n",
       "    <tr style=\"text-align: right;\">\n",
       "      <th></th>\n",
       "      <th>RowNumber</th>\n",
       "      <th>CustomerId</th>\n",
       "      <th>Surname</th>\n",
       "      <th>CreditScore</th>\n",
       "      <th>Geography</th>\n",
       "      <th>Gender</th>\n",
       "      <th>Age</th>\n",
       "      <th>Tenure</th>\n",
       "      <th>Balance</th>\n",
       "      <th>NumOfProducts</th>\n",
       "      <th>HasCrCard</th>\n",
       "      <th>IsActiveMember</th>\n",
       "      <th>EstimatedSalary</th>\n",
       "      <th>Exited</th>\n",
       "    </tr>\n",
       "  </thead>\n",
       "  <tbody>\n",
       "    <tr>\n",
       "      <th>0</th>\n",
       "      <td>1</td>\n",
       "      <td>15634602</td>\n",
       "      <td>Hargrave</td>\n",
       "      <td>619</td>\n",
       "      <td>France</td>\n",
       "      <td>Female</td>\n",
       "      <td>42</td>\n",
       "      <td>2</td>\n",
       "      <td>0.00</td>\n",
       "      <td>1</td>\n",
       "      <td>1</td>\n",
       "      <td>1</td>\n",
       "      <td>101348.88</td>\n",
       "      <td>1</td>\n",
       "    </tr>\n",
       "    <tr>\n",
       "      <th>1</th>\n",
       "      <td>2</td>\n",
       "      <td>15647311</td>\n",
       "      <td>Hill</td>\n",
       "      <td>608</td>\n",
       "      <td>Spain</td>\n",
       "      <td>Female</td>\n",
       "      <td>41</td>\n",
       "      <td>1</td>\n",
       "      <td>83807.86</td>\n",
       "      <td>1</td>\n",
       "      <td>0</td>\n",
       "      <td>1</td>\n",
       "      <td>112542.58</td>\n",
       "      <td>0</td>\n",
       "    </tr>\n",
       "    <tr>\n",
       "      <th>2</th>\n",
       "      <td>3</td>\n",
       "      <td>15619304</td>\n",
       "      <td>Onio</td>\n",
       "      <td>502</td>\n",
       "      <td>France</td>\n",
       "      <td>Female</td>\n",
       "      <td>42</td>\n",
       "      <td>8</td>\n",
       "      <td>159660.80</td>\n",
       "      <td>3</td>\n",
       "      <td>1</td>\n",
       "      <td>0</td>\n",
       "      <td>113931.57</td>\n",
       "      <td>1</td>\n",
       "    </tr>\n",
       "    <tr>\n",
       "      <th>3</th>\n",
       "      <td>4</td>\n",
       "      <td>15701354</td>\n",
       "      <td>Boni</td>\n",
       "      <td>699</td>\n",
       "      <td>France</td>\n",
       "      <td>Female</td>\n",
       "      <td>39</td>\n",
       "      <td>1</td>\n",
       "      <td>0.00</td>\n",
       "      <td>2</td>\n",
       "      <td>0</td>\n",
       "      <td>0</td>\n",
       "      <td>93826.63</td>\n",
       "      <td>0</td>\n",
       "    </tr>\n",
       "    <tr>\n",
       "      <th>4</th>\n",
       "      <td>5</td>\n",
       "      <td>15737888</td>\n",
       "      <td>Mitchell</td>\n",
       "      <td>850</td>\n",
       "      <td>Spain</td>\n",
       "      <td>Female</td>\n",
       "      <td>43</td>\n",
       "      <td>2</td>\n",
       "      <td>125510.82</td>\n",
       "      <td>1</td>\n",
       "      <td>1</td>\n",
       "      <td>1</td>\n",
       "      <td>79084.10</td>\n",
       "      <td>0</td>\n",
       "    </tr>\n",
       "  </tbody>\n",
       "</table>\n",
       "</div>"
      ],
      "text/plain": [
       "   RowNumber  CustomerId   Surname  CreditScore Geography  Gender  Age  \\\n",
       "0          1    15634602  Hargrave          619    France  Female   42   \n",
       "1          2    15647311      Hill          608     Spain  Female   41   \n",
       "2          3    15619304      Onio          502    France  Female   42   \n",
       "3          4    15701354      Boni          699    France  Female   39   \n",
       "4          5    15737888  Mitchell          850     Spain  Female   43   \n",
       "\n",
       "   Tenure    Balance  NumOfProducts  HasCrCard  IsActiveMember  \\\n",
       "0       2       0.00              1          1               1   \n",
       "1       1   83807.86              1          0               1   \n",
       "2       8  159660.80              3          1               0   \n",
       "3       1       0.00              2          0               0   \n",
       "4       2  125510.82              1          1               1   \n",
       "\n",
       "   EstimatedSalary  Exited  \n",
       "0        101348.88       1  \n",
       "1        112542.58       0  \n",
       "2        113931.57       1  \n",
       "3         93826.63       0  \n",
       "4         79084.10       0  "
      ]
     },
     "execution_count": 31,
     "metadata": {},
     "output_type": "execute_result"
    }
   ],
   "source": [
    "dataset=pd.read_csv('new churn.txt')\n",
    "dataset.head()"
   ]
  },
  {
   "cell_type": "code",
   "execution_count": 32,
   "metadata": {},
   "outputs": [],
   "source": [
    "X=dataset.iloc[:,3:13]\n",
    "Y=dataset.iloc[:,13]"
   ]
  },
  {
   "cell_type": "code",
   "execution_count": 33,
   "metadata": {},
   "outputs": [
    {
     "data": {
      "text/plain": [
       "0    1\n",
       "1    0\n",
       "2    1\n",
       "3    0\n",
       "4    0\n",
       "Name: Exited, dtype: int64"
      ]
     },
     "execution_count": 33,
     "metadata": {},
     "output_type": "execute_result"
    }
   ],
   "source": [
    "Y.head()"
   ]
  },
  {
   "cell_type": "code",
   "execution_count": 34,
   "metadata": {},
   "outputs": [],
   "source": [
    "geography=pd.get_dummies(X['Geography'],drop_first=True)\n",
    "gender=pd.get_dummies(X['Gender'],drop_first=True)"
   ]
  },
  {
   "cell_type": "code",
   "execution_count": 37,
   "metadata": {},
   "outputs": [
    {
     "data": {
      "text/html": [
       "<div>\n",
       "<style scoped>\n",
       "    .dataframe tbody tr th:only-of-type {\n",
       "        vertical-align: middle;\n",
       "    }\n",
       "\n",
       "    .dataframe tbody tr th {\n",
       "        vertical-align: top;\n",
       "    }\n",
       "\n",
       "    .dataframe thead th {\n",
       "        text-align: right;\n",
       "    }\n",
       "</style>\n",
       "<table border=\"1\" class=\"dataframe\">\n",
       "  <thead>\n",
       "    <tr style=\"text-align: right;\">\n",
       "      <th></th>\n",
       "      <th>Male</th>\n",
       "    </tr>\n",
       "  </thead>\n",
       "  <tbody>\n",
       "    <tr>\n",
       "      <th>0</th>\n",
       "      <td>0</td>\n",
       "    </tr>\n",
       "    <tr>\n",
       "      <th>1</th>\n",
       "      <td>0</td>\n",
       "    </tr>\n",
       "    <tr>\n",
       "      <th>2</th>\n",
       "      <td>0</td>\n",
       "    </tr>\n",
       "    <tr>\n",
       "      <th>3</th>\n",
       "      <td>0</td>\n",
       "    </tr>\n",
       "    <tr>\n",
       "      <th>4</th>\n",
       "      <td>0</td>\n",
       "    </tr>\n",
       "  </tbody>\n",
       "</table>\n",
       "</div>"
      ],
      "text/plain": [
       "   Male\n",
       "0     0\n",
       "1     0\n",
       "2     0\n",
       "3     0\n",
       "4     0"
      ]
     },
     "execution_count": 37,
     "metadata": {},
     "output_type": "execute_result"
    }
   ],
   "source": [
    "gender.head()"
   ]
  },
  {
   "cell_type": "code",
   "execution_count": 38,
   "metadata": {},
   "outputs": [],
   "source": [
    "X=pd.concat([X,geography,gender],axis=1)"
   ]
  },
  {
   "cell_type": "code",
   "execution_count": 39,
   "metadata": {
    "scrolled": true
   },
   "outputs": [
    {
     "data": {
      "text/html": [
       "<div>\n",
       "<style scoped>\n",
       "    .dataframe tbody tr th:only-of-type {\n",
       "        vertical-align: middle;\n",
       "    }\n",
       "\n",
       "    .dataframe tbody tr th {\n",
       "        vertical-align: top;\n",
       "    }\n",
       "\n",
       "    .dataframe thead th {\n",
       "        text-align: right;\n",
       "    }\n",
       "</style>\n",
       "<table border=\"1\" class=\"dataframe\">\n",
       "  <thead>\n",
       "    <tr style=\"text-align: right;\">\n",
       "      <th></th>\n",
       "      <th>CreditScore</th>\n",
       "      <th>Geography</th>\n",
       "      <th>Gender</th>\n",
       "      <th>Age</th>\n",
       "      <th>Tenure</th>\n",
       "      <th>Balance</th>\n",
       "      <th>NumOfProducts</th>\n",
       "      <th>HasCrCard</th>\n",
       "      <th>IsActiveMember</th>\n",
       "      <th>EstimatedSalary</th>\n",
       "      <th>Germany</th>\n",
       "      <th>Spain</th>\n",
       "      <th>Male</th>\n",
       "    </tr>\n",
       "  </thead>\n",
       "  <tbody>\n",
       "    <tr>\n",
       "      <th>0</th>\n",
       "      <td>619</td>\n",
       "      <td>France</td>\n",
       "      <td>Female</td>\n",
       "      <td>42</td>\n",
       "      <td>2</td>\n",
       "      <td>0.00</td>\n",
       "      <td>1</td>\n",
       "      <td>1</td>\n",
       "      <td>1</td>\n",
       "      <td>101348.88</td>\n",
       "      <td>0</td>\n",
       "      <td>0</td>\n",
       "      <td>0</td>\n",
       "    </tr>\n",
       "    <tr>\n",
       "      <th>1</th>\n",
       "      <td>608</td>\n",
       "      <td>Spain</td>\n",
       "      <td>Female</td>\n",
       "      <td>41</td>\n",
       "      <td>1</td>\n",
       "      <td>83807.86</td>\n",
       "      <td>1</td>\n",
       "      <td>0</td>\n",
       "      <td>1</td>\n",
       "      <td>112542.58</td>\n",
       "      <td>0</td>\n",
       "      <td>1</td>\n",
       "      <td>0</td>\n",
       "    </tr>\n",
       "    <tr>\n",
       "      <th>2</th>\n",
       "      <td>502</td>\n",
       "      <td>France</td>\n",
       "      <td>Female</td>\n",
       "      <td>42</td>\n",
       "      <td>8</td>\n",
       "      <td>159660.80</td>\n",
       "      <td>3</td>\n",
       "      <td>1</td>\n",
       "      <td>0</td>\n",
       "      <td>113931.57</td>\n",
       "      <td>0</td>\n",
       "      <td>0</td>\n",
       "      <td>0</td>\n",
       "    </tr>\n",
       "    <tr>\n",
       "      <th>3</th>\n",
       "      <td>699</td>\n",
       "      <td>France</td>\n",
       "      <td>Female</td>\n",
       "      <td>39</td>\n",
       "      <td>1</td>\n",
       "      <td>0.00</td>\n",
       "      <td>2</td>\n",
       "      <td>0</td>\n",
       "      <td>0</td>\n",
       "      <td>93826.63</td>\n",
       "      <td>0</td>\n",
       "      <td>0</td>\n",
       "      <td>0</td>\n",
       "    </tr>\n",
       "    <tr>\n",
       "      <th>4</th>\n",
       "      <td>850</td>\n",
       "      <td>Spain</td>\n",
       "      <td>Female</td>\n",
       "      <td>43</td>\n",
       "      <td>2</td>\n",
       "      <td>125510.82</td>\n",
       "      <td>1</td>\n",
       "      <td>1</td>\n",
       "      <td>1</td>\n",
       "      <td>79084.10</td>\n",
       "      <td>0</td>\n",
       "      <td>1</td>\n",
       "      <td>0</td>\n",
       "    </tr>\n",
       "  </tbody>\n",
       "</table>\n",
       "</div>"
      ],
      "text/plain": [
       "   CreditScore Geography  Gender  Age  Tenure    Balance  NumOfProducts  \\\n",
       "0          619    France  Female   42       2       0.00              1   \n",
       "1          608     Spain  Female   41       1   83807.86              1   \n",
       "2          502    France  Female   42       8  159660.80              3   \n",
       "3          699    France  Female   39       1       0.00              2   \n",
       "4          850     Spain  Female   43       2  125510.82              1   \n",
       "\n",
       "   HasCrCard  IsActiveMember  EstimatedSalary  Germany  Spain  Male  \n",
       "0          1               1        101348.88        0      0     0  \n",
       "1          0               1        112542.58        0      1     0  \n",
       "2          1               0        113931.57        0      0     0  \n",
       "3          0               0         93826.63        0      0     0  \n",
       "4          1               1         79084.10        0      1     0  "
      ]
     },
     "execution_count": 39,
     "metadata": {},
     "output_type": "execute_result"
    }
   ],
   "source": [
    "X.head()"
   ]
  },
  {
   "cell_type": "code",
   "execution_count": 40,
   "metadata": {},
   "outputs": [],
   "source": [
    "XX=X.copy()"
   ]
  },
  {
   "cell_type": "code",
   "execution_count": 41,
   "metadata": {},
   "outputs": [
    {
     "data": {
      "text/html": [
       "<div>\n",
       "<style scoped>\n",
       "    .dataframe tbody tr th:only-of-type {\n",
       "        vertical-align: middle;\n",
       "    }\n",
       "\n",
       "    .dataframe tbody tr th {\n",
       "        vertical-align: top;\n",
       "    }\n",
       "\n",
       "    .dataframe thead th {\n",
       "        text-align: right;\n",
       "    }\n",
       "</style>\n",
       "<table border=\"1\" class=\"dataframe\">\n",
       "  <thead>\n",
       "    <tr style=\"text-align: right;\">\n",
       "      <th></th>\n",
       "      <th>CreditScore</th>\n",
       "      <th>Geography</th>\n",
       "      <th>Gender</th>\n",
       "      <th>Age</th>\n",
       "      <th>Tenure</th>\n",
       "      <th>Balance</th>\n",
       "      <th>NumOfProducts</th>\n",
       "      <th>HasCrCard</th>\n",
       "      <th>IsActiveMember</th>\n",
       "      <th>EstimatedSalary</th>\n",
       "      <th>Germany</th>\n",
       "      <th>Spain</th>\n",
       "      <th>Male</th>\n",
       "    </tr>\n",
       "  </thead>\n",
       "  <tbody>\n",
       "    <tr>\n",
       "      <th>0</th>\n",
       "      <td>619</td>\n",
       "      <td>France</td>\n",
       "      <td>Female</td>\n",
       "      <td>42</td>\n",
       "      <td>2</td>\n",
       "      <td>0.00</td>\n",
       "      <td>1</td>\n",
       "      <td>1</td>\n",
       "      <td>1</td>\n",
       "      <td>101348.88</td>\n",
       "      <td>0</td>\n",
       "      <td>0</td>\n",
       "      <td>0</td>\n",
       "    </tr>\n",
       "    <tr>\n",
       "      <th>1</th>\n",
       "      <td>608</td>\n",
       "      <td>Spain</td>\n",
       "      <td>Female</td>\n",
       "      <td>41</td>\n",
       "      <td>1</td>\n",
       "      <td>83807.86</td>\n",
       "      <td>1</td>\n",
       "      <td>0</td>\n",
       "      <td>1</td>\n",
       "      <td>112542.58</td>\n",
       "      <td>0</td>\n",
       "      <td>1</td>\n",
       "      <td>0</td>\n",
       "    </tr>\n",
       "    <tr>\n",
       "      <th>2</th>\n",
       "      <td>502</td>\n",
       "      <td>France</td>\n",
       "      <td>Female</td>\n",
       "      <td>42</td>\n",
       "      <td>8</td>\n",
       "      <td>159660.80</td>\n",
       "      <td>3</td>\n",
       "      <td>1</td>\n",
       "      <td>0</td>\n",
       "      <td>113931.57</td>\n",
       "      <td>0</td>\n",
       "      <td>0</td>\n",
       "      <td>0</td>\n",
       "    </tr>\n",
       "    <tr>\n",
       "      <th>3</th>\n",
       "      <td>699</td>\n",
       "      <td>France</td>\n",
       "      <td>Female</td>\n",
       "      <td>39</td>\n",
       "      <td>1</td>\n",
       "      <td>0.00</td>\n",
       "      <td>2</td>\n",
       "      <td>0</td>\n",
       "      <td>0</td>\n",
       "      <td>93826.63</td>\n",
       "      <td>0</td>\n",
       "      <td>0</td>\n",
       "      <td>0</td>\n",
       "    </tr>\n",
       "    <tr>\n",
       "      <th>4</th>\n",
       "      <td>850</td>\n",
       "      <td>Spain</td>\n",
       "      <td>Female</td>\n",
       "      <td>43</td>\n",
       "      <td>2</td>\n",
       "      <td>125510.82</td>\n",
       "      <td>1</td>\n",
       "      <td>1</td>\n",
       "      <td>1</td>\n",
       "      <td>79084.10</td>\n",
       "      <td>0</td>\n",
       "      <td>1</td>\n",
       "      <td>0</td>\n",
       "    </tr>\n",
       "  </tbody>\n",
       "</table>\n",
       "</div>"
      ],
      "text/plain": [
       "   CreditScore Geography  Gender  Age  Tenure    Balance  NumOfProducts  \\\n",
       "0          619    France  Female   42       2       0.00              1   \n",
       "1          608     Spain  Female   41       1   83807.86              1   \n",
       "2          502    France  Female   42       8  159660.80              3   \n",
       "3          699    France  Female   39       1       0.00              2   \n",
       "4          850     Spain  Female   43       2  125510.82              1   \n",
       "\n",
       "   HasCrCard  IsActiveMember  EstimatedSalary  Germany  Spain  Male  \n",
       "0          1               1        101348.88        0      0     0  \n",
       "1          0               1        112542.58        0      1     0  \n",
       "2          1               0        113931.57        0      0     0  \n",
       "3          0               0         93826.63        0      0     0  \n",
       "4          1               1         79084.10        0      1     0  "
      ]
     },
     "execution_count": 41,
     "metadata": {},
     "output_type": "execute_result"
    }
   ],
   "source": [
    "X.head()"
   ]
  },
  {
   "cell_type": "code",
   "execution_count": 42,
   "metadata": {},
   "outputs": [],
   "source": [
    "X.drop(['Geography','Gender'],axis=1,inplace=True)"
   ]
  },
  {
   "cell_type": "code",
   "execution_count": 43,
   "metadata": {},
   "outputs": [
    {
     "data": {
      "text/html": [
       "<div>\n",
       "<style scoped>\n",
       "    .dataframe tbody tr th:only-of-type {\n",
       "        vertical-align: middle;\n",
       "    }\n",
       "\n",
       "    .dataframe tbody tr th {\n",
       "        vertical-align: top;\n",
       "    }\n",
       "\n",
       "    .dataframe thead th {\n",
       "        text-align: right;\n",
       "    }\n",
       "</style>\n",
       "<table border=\"1\" class=\"dataframe\">\n",
       "  <thead>\n",
       "    <tr style=\"text-align: right;\">\n",
       "      <th></th>\n",
       "      <th>CreditScore</th>\n",
       "      <th>Age</th>\n",
       "      <th>Tenure</th>\n",
       "      <th>Balance</th>\n",
       "      <th>NumOfProducts</th>\n",
       "      <th>HasCrCard</th>\n",
       "      <th>IsActiveMember</th>\n",
       "      <th>EstimatedSalary</th>\n",
       "      <th>Germany</th>\n",
       "      <th>Spain</th>\n",
       "      <th>Male</th>\n",
       "    </tr>\n",
       "  </thead>\n",
       "  <tbody>\n",
       "    <tr>\n",
       "      <th>0</th>\n",
       "      <td>619</td>\n",
       "      <td>42</td>\n",
       "      <td>2</td>\n",
       "      <td>0.00</td>\n",
       "      <td>1</td>\n",
       "      <td>1</td>\n",
       "      <td>1</td>\n",
       "      <td>101348.88</td>\n",
       "      <td>0</td>\n",
       "      <td>0</td>\n",
       "      <td>0</td>\n",
       "    </tr>\n",
       "    <tr>\n",
       "      <th>1</th>\n",
       "      <td>608</td>\n",
       "      <td>41</td>\n",
       "      <td>1</td>\n",
       "      <td>83807.86</td>\n",
       "      <td>1</td>\n",
       "      <td>0</td>\n",
       "      <td>1</td>\n",
       "      <td>112542.58</td>\n",
       "      <td>0</td>\n",
       "      <td>1</td>\n",
       "      <td>0</td>\n",
       "    </tr>\n",
       "    <tr>\n",
       "      <th>2</th>\n",
       "      <td>502</td>\n",
       "      <td>42</td>\n",
       "      <td>8</td>\n",
       "      <td>159660.80</td>\n",
       "      <td>3</td>\n",
       "      <td>1</td>\n",
       "      <td>0</td>\n",
       "      <td>113931.57</td>\n",
       "      <td>0</td>\n",
       "      <td>0</td>\n",
       "      <td>0</td>\n",
       "    </tr>\n",
       "    <tr>\n",
       "      <th>3</th>\n",
       "      <td>699</td>\n",
       "      <td>39</td>\n",
       "      <td>1</td>\n",
       "      <td>0.00</td>\n",
       "      <td>2</td>\n",
       "      <td>0</td>\n",
       "      <td>0</td>\n",
       "      <td>93826.63</td>\n",
       "      <td>0</td>\n",
       "      <td>0</td>\n",
       "      <td>0</td>\n",
       "    </tr>\n",
       "    <tr>\n",
       "      <th>4</th>\n",
       "      <td>850</td>\n",
       "      <td>43</td>\n",
       "      <td>2</td>\n",
       "      <td>125510.82</td>\n",
       "      <td>1</td>\n",
       "      <td>1</td>\n",
       "      <td>1</td>\n",
       "      <td>79084.10</td>\n",
       "      <td>0</td>\n",
       "      <td>1</td>\n",
       "      <td>0</td>\n",
       "    </tr>\n",
       "    <tr>\n",
       "      <th>...</th>\n",
       "      <td>...</td>\n",
       "      <td>...</td>\n",
       "      <td>...</td>\n",
       "      <td>...</td>\n",
       "      <td>...</td>\n",
       "      <td>...</td>\n",
       "      <td>...</td>\n",
       "      <td>...</td>\n",
       "      <td>...</td>\n",
       "      <td>...</td>\n",
       "      <td>...</td>\n",
       "    </tr>\n",
       "    <tr>\n",
       "      <th>7706</th>\n",
       "      <td>667</td>\n",
       "      <td>31</td>\n",
       "      <td>5</td>\n",
       "      <td>0.00</td>\n",
       "      <td>2</td>\n",
       "      <td>1</td>\n",
       "      <td>1</td>\n",
       "      <td>20346.69</td>\n",
       "      <td>0</td>\n",
       "      <td>1</td>\n",
       "      <td>1</td>\n",
       "    </tr>\n",
       "    <tr>\n",
       "      <th>7707</th>\n",
       "      <td>848</td>\n",
       "      <td>35</td>\n",
       "      <td>5</td>\n",
       "      <td>120046.74</td>\n",
       "      <td>2</td>\n",
       "      <td>1</td>\n",
       "      <td>0</td>\n",
       "      <td>84710.65</td>\n",
       "      <td>0</td>\n",
       "      <td>1</td>\n",
       "      <td>1</td>\n",
       "    </tr>\n",
       "    <tr>\n",
       "      <th>7708</th>\n",
       "      <td>486</td>\n",
       "      <td>39</td>\n",
       "      <td>8</td>\n",
       "      <td>97819.36</td>\n",
       "      <td>1</td>\n",
       "      <td>0</td>\n",
       "      <td>1</td>\n",
       "      <td>120531.31</td>\n",
       "      <td>0</td>\n",
       "      <td>0</td>\n",
       "      <td>0</td>\n",
       "    </tr>\n",
       "    <tr>\n",
       "      <th>7709</th>\n",
       "      <td>598</td>\n",
       "      <td>64</td>\n",
       "      <td>1</td>\n",
       "      <td>62979.93</td>\n",
       "      <td>1</td>\n",
       "      <td>1</td>\n",
       "      <td>1</td>\n",
       "      <td>152273.57</td>\n",
       "      <td>0</td>\n",
       "      <td>1</td>\n",
       "      <td>0</td>\n",
       "    </tr>\n",
       "    <tr>\n",
       "      <th>7710</th>\n",
       "      <td>506</td>\n",
       "      <td>40</td>\n",
       "      <td>3</td>\n",
       "      <td>0.00</td>\n",
       "      <td>1</td>\n",
       "      <td>1</td>\n",
       "      <td>1</td>\n",
       "      <td>144345.58</td>\n",
       "      <td>0</td>\n",
       "      <td>0</td>\n",
       "      <td>0</td>\n",
       "    </tr>\n",
       "  </tbody>\n",
       "</table>\n",
       "<p>7711 rows × 11 columns</p>\n",
       "</div>"
      ],
      "text/plain": [
       "      CreditScore  Age  Tenure    Balance  NumOfProducts  HasCrCard  \\\n",
       "0             619   42       2       0.00              1          1   \n",
       "1             608   41       1   83807.86              1          0   \n",
       "2             502   42       8  159660.80              3          1   \n",
       "3             699   39       1       0.00              2          0   \n",
       "4             850   43       2  125510.82              1          1   \n",
       "...           ...  ...     ...        ...            ...        ...   \n",
       "7706          667   31       5       0.00              2          1   \n",
       "7707          848   35       5  120046.74              2          1   \n",
       "7708          486   39       8   97819.36              1          0   \n",
       "7709          598   64       1   62979.93              1          1   \n",
       "7710          506   40       3       0.00              1          1   \n",
       "\n",
       "      IsActiveMember  EstimatedSalary  Germany  Spain  Male  \n",
       "0                  1        101348.88        0      0     0  \n",
       "1                  1        112542.58        0      1     0  \n",
       "2                  0        113931.57        0      0     0  \n",
       "3                  0         93826.63        0      0     0  \n",
       "4                  1         79084.10        0      1     0  \n",
       "...              ...              ...      ...    ...   ...  \n",
       "7706               1         20346.69        0      1     1  \n",
       "7707               0         84710.65        0      1     1  \n",
       "7708               1        120531.31        0      0     0  \n",
       "7709               1        152273.57        0      1     0  \n",
       "7710               1        144345.58        0      0     0  \n",
       "\n",
       "[7711 rows x 11 columns]"
      ]
     },
     "execution_count": 43,
     "metadata": {},
     "output_type": "execute_result"
    }
   ],
   "source": [
    "X"
   ]
  },
  {
   "cell_type": "code",
   "execution_count": 44,
   "metadata": {},
   "outputs": [
    {
     "data": {
      "text/plain": [
       "1    4177\n",
       "0    3534\n",
       "Name: Male, dtype: int64"
      ]
     },
     "execution_count": 44,
     "metadata": {},
     "output_type": "execute_result"
    }
   ],
   "source": [
    "X.Male.value_counts()"
   ]
  },
  {
   "cell_type": "code",
   "execution_count": 45,
   "metadata": {},
   "outputs": [],
   "source": [
    "from sklearn.model_selection import train_test_split\n",
    "x_train,x_test,y_train,y_test=train_test_split(X,Y,test_size=0.2,random_state=0)"
   ]
  },
  {
   "cell_type": "code",
   "execution_count": 47,
   "metadata": {},
   "outputs": [],
   "source": [
    "from sklearn.preprocessing import StandardScaler\n",
    "sc=StandardScaler()"
   ]
  },
  {
   "cell_type": "code",
   "execution_count": 54,
   "metadata": {},
   "outputs": [],
   "source": [
    "x_train=sc.fit_transform(x_train)\n",
    "x_test=sc.transform(x_test)"
   ]
  },
  {
   "cell_type": "code",
   "execution_count": 55,
   "metadata": {},
   "outputs": [
    {
     "data": {
      "text/plain": [
       "array([[ 0.34009365,  1.8068514 , -1.40342874, ..., -0.57360606,\n",
       "        -0.57310682, -1.08180525],\n",
       "       [ 0.89031623,  0.1945012 ,  0.68059705, ..., -0.57360606,\n",
       "        -0.57310682,  0.9243808 ],\n",
       "       [-1.64278394, -1.89206965, -1.05609111, ...,  1.74335674,\n",
       "        -0.57310682,  0.9243808 ],\n",
       "       ...,\n",
       "       [-1.54934992,  1.61716314, -1.40342874, ..., -0.57360606,\n",
       "        -0.57310682,  0.9243808 ],\n",
       "       [ 1.71045931, -0.7539401 , -1.40342874, ..., -0.57360606,\n",
       "        -0.57310682,  0.9243808 ],\n",
       "       [-0.27241828,  0.8584101 , -1.40342874, ...,  1.74335674,\n",
       "        -0.57310682, -1.08180525]])"
      ]
     },
     "execution_count": 55,
     "metadata": {},
     "output_type": "execute_result"
    }
   ],
   "source": [
    "x_train"
   ]
  },
  {
   "cell_type": "code",
   "execution_count": 56,
   "metadata": {},
   "outputs": [
    {
     "data": {
      "text/plain": [
       "array([[ 0.44902031, -0.37112512,  0.02940601, ..., -0.57460631,\n",
       "        -0.59955931,  0.90175439],\n",
       "       [ 2.00146847,  0.11764755,  0.02940601, ..., -0.57460631,\n",
       "        -0.59955931, -1.10894941],\n",
       "       [-1.03240081,  1.29070194, -1.35604367, ..., -0.57460631,\n",
       "        -0.59955931,  0.90175439],\n",
       "       ...,\n",
       "       [-0.00758209, -0.07786152, -1.35604367, ..., -0.57460631,\n",
       "         1.66789171, -1.10894941],\n",
       "       [ 1.99132175, -1.15316138, -1.7024061 , ..., -0.57460631,\n",
       "        -0.59955931,  0.90175439],\n",
       "       [-1.01210737,  0.31315661,  0.72213086, ..., -0.57460631,\n",
       "         1.66789171,  0.90175439]])"
      ]
     },
     "execution_count": 56,
     "metadata": {},
     "output_type": "execute_result"
    }
   ],
   "source": [
    "x_test"
   ]
  },
  {
   "cell_type": "code",
   "execution_count": 57,
   "metadata": {},
   "outputs": [],
   "source": [
    "from keras.models import Sequential\n",
    "from keras.layers import Dense\n",
    "from keras.layers import LeakyReLU,PReLU,ELU\n",
    "from keras.layers import Dropout"
   ]
  },
  {
   "cell_type": "code",
   "execution_count": 77,
   "metadata": {},
   "outputs": [],
   "source": [
    "cl=Sequential()"
   ]
  },
  {
   "cell_type": "code",
   "execution_count": 78,
   "metadata": {},
   "outputs": [],
   "source": [
    "cl.add(Dense(units=6,kernel_initializer='he_uniform',activation='relu',input_dim=11))"
   ]
  },
  {
   "cell_type": "code",
   "execution_count": 79,
   "metadata": {},
   "outputs": [],
   "source": [
    "cl.add(Dense(units=6,kernel_initializer='he_uniform',activation='relu'))"
   ]
  },
  {
   "cell_type": "code",
   "execution_count": 83,
   "metadata": {},
   "outputs": [],
   "source": [
    "cl.add(Dense(units=1,kernel_initializer='glorot_uniform',activation='sigmoid'))"
   ]
  },
  {
   "cell_type": "code",
   "execution_count": 85,
   "metadata": {},
   "outputs": [],
   "source": [
    "cl.compile(optimizer='Adamax',loss='binary_crossentropy',metrics=['accuracy'])"
   ]
  },
  {
   "cell_type": "code",
   "execution_count": 87,
   "metadata": {},
   "outputs": [
    {
     "name": "stdout",
     "output_type": "stream",
     "text": [
      "Model: \"sequential_4\"\n",
      "_________________________________________________________________\n",
      "Layer (type)                 Output Shape              Param #   \n",
      "=================================================================\n",
      "dense_11 (Dense)             (None, 6)                 72        \n",
      "_________________________________________________________________\n",
      "dense_12 (Dense)             (None, 6)                 42        \n",
      "_________________________________________________________________\n",
      "dense_14 (Dense)             (None, 1)                 7         \n",
      "=================================================================\n",
      "Total params: 121\n",
      "Trainable params: 121\n",
      "Non-trainable params: 0\n",
      "_________________________________________________________________\n"
     ]
    }
   ],
   "source": [
    "cl.summary()"
   ]
  },
  {
   "cell_type": "code",
   "execution_count": 88,
   "metadata": {},
   "outputs": [
    {
     "name": "stderr",
     "output_type": "stream",
     "text": [
      "C:\\Users\\lenovo\\.conda\\envs\\new\\lib\\site-packages\\ipykernel_launcher.py:1: UserWarning: The `nb_epoch` argument in `fit` has been renamed `epochs`.\n",
      "  \"\"\"Entry point for launching an IPython kernel.\n"
     ]
    },
    {
     "name": "stdout",
     "output_type": "stream",
     "text": [
      "Train on 4132 samples, validate on 2036 samples\n",
      "Epoch 1/70\n",
      "4132/4132 [==============================] - 3s 617us/step - loss: 0.6537 - accuracy: 0.6781 - val_loss: 0.5517 - val_accuracy: 0.7873\n",
      "Epoch 2/70\n",
      "4132/4132 [==============================] - 1s 234us/step - loss: 0.5274 - accuracy: 0.7965 - val_loss: 0.5255 - val_accuracy: 0.7873\n",
      "Epoch 3/70\n",
      "4132/4132 [==============================] - 1s 234us/step - loss: 0.5088 - accuracy: 0.7965 - val_loss: 0.5142 - val_accuracy: 0.7873\n",
      "Epoch 4/70\n",
      "4132/4132 [==============================] - 1s 340us/step - loss: 0.4983 - accuracy: 0.7965 - val_loss: 0.5065 - val_accuracy: 0.7873\n",
      "Epoch 5/70\n",
      "4132/4132 [==============================] - 1s 245us/step - loss: 0.4905 - accuracy: 0.7965 - val_loss: 0.4994 - val_accuracy: 0.7873\n",
      "Epoch 6/70\n",
      "4132/4132 [==============================] - 1s 245us/step - loss: 0.4827 - accuracy: 0.7967 - val_loss: 0.4921 - val_accuracy: 0.7878\n",
      "Epoch 7/70\n",
      "4132/4132 [==============================] - 1s 245us/step - loss: 0.4746 - accuracy: 0.7962 - val_loss: 0.4841 - val_accuracy: 0.7888\n",
      "Epoch 8/70\n",
      "4132/4132 [==============================] - 1s 245us/step - loss: 0.4671 - accuracy: 0.7970 - val_loss: 0.4768 - val_accuracy: 0.7863\n",
      "Epoch 9/70\n",
      "4132/4132 [==============================] - 2s 390us/step - loss: 0.4592 - accuracy: 0.7996 - val_loss: 0.4697 - val_accuracy: 0.7859\n",
      "Epoch 10/70\n",
      "4132/4132 [==============================] - 2s 373us/step - loss: 0.4520 - accuracy: 0.7994 - val_loss: 0.4645 - val_accuracy: 0.7868\n",
      "Epoch 11/70\n",
      "4132/4132 [==============================] - 1s 353us/step - loss: 0.4462 - accuracy: 0.8013 - val_loss: 0.4593 - val_accuracy: 0.7888\n",
      "Epoch 12/70\n",
      "4132/4132 [==============================] - 1s 320us/step - loss: 0.4407 - accuracy: 0.8071 - val_loss: 0.4544 - val_accuracy: 0.7981\n",
      "Epoch 13/70\n",
      "4132/4132 [==============================] - 1s 296us/step - loss: 0.4362 - accuracy: 0.8049 - val_loss: 0.4512 - val_accuracy: 0.8006\n",
      "Epoch 14/70\n",
      "4132/4132 [==============================] - 2s 380us/step - loss: 0.4320 - accuracy: 0.8105 - val_loss: 0.4479 - val_accuracy: 0.8030\n",
      "Epoch 15/70\n",
      "4132/4132 [==============================] - 1s 340us/step - loss: 0.4285 - accuracy: 0.8120 - val_loss: 0.4461 - val_accuracy: 0.8035\n",
      "Epoch 16/70\n",
      "4132/4132 [==============================] - 1s 285us/step - loss: 0.4252 - accuracy: 0.8149 - val_loss: 0.4437 - val_accuracy: 0.8094\n",
      "Epoch 17/70\n",
      "4132/4132 [==============================] - 1s 248us/step - loss: 0.4217 - accuracy: 0.8178 - val_loss: 0.4405 - val_accuracy: 0.8099\n",
      "Epoch 18/70\n",
      "4132/4132 [==============================] - 1s 282us/step - loss: 0.4184 - accuracy: 0.8204 - val_loss: 0.4388 - val_accuracy: 0.8104\n",
      "Epoch 19/70\n",
      "4132/4132 [==============================] - 1s 279us/step - loss: 0.4154 - accuracy: 0.8199 - val_loss: 0.4352 - val_accuracy: 0.8129\n",
      "Epoch 20/70\n",
      "4132/4132 [==============================] - 1s 236us/step - loss: 0.4127 - accuracy: 0.8243 - val_loss: 0.4340 - val_accuracy: 0.8129\n",
      "Epoch 21/70\n",
      "4132/4132 [==============================] - 1s 270us/step - loss: 0.4101 - accuracy: 0.8238 - val_loss: 0.4324 - val_accuracy: 0.8139\n",
      "Epoch 22/70\n",
      "4132/4132 [==============================] - 1s 237us/step - loss: 0.4075 - accuracy: 0.8265 - val_loss: 0.4296 - val_accuracy: 0.8153\n",
      "Epoch 23/70\n",
      "4132/4132 [==============================] - 1s 236us/step - loss: 0.4050 - accuracy: 0.8272 - val_loss: 0.4284 - val_accuracy: 0.8202\n",
      "Epoch 24/70\n",
      "4132/4132 [==============================] - 2s 400us/step - loss: 0.4024 - accuracy: 0.8291 - val_loss: 0.4269 - val_accuracy: 0.8202\n",
      "Epoch 25/70\n",
      "4132/4132 [==============================] - 1s 324us/step - loss: 0.4003 - accuracy: 0.8294 - val_loss: 0.4244 - val_accuracy: 0.8217\n",
      "Epoch 26/70\n",
      "4132/4132 [==============================] - 1s 259us/step - loss: 0.3980 - accuracy: 0.8294 - val_loss: 0.4229 - val_accuracy: 0.8227\n",
      "Epoch 27/70\n",
      "4132/4132 [==============================] - 1s 250us/step - loss: 0.3960 - accuracy: 0.8303 - val_loss: 0.4208 - val_accuracy: 0.8212\n",
      "Epoch 28/70\n",
      "4132/4132 [==============================] - 1s 254us/step - loss: 0.3938 - accuracy: 0.8308 - val_loss: 0.4202 - val_accuracy: 0.8227\n",
      "Epoch 29/70\n",
      "4132/4132 [==============================] - 1s 331us/step - loss: 0.3918 - accuracy: 0.8320 - val_loss: 0.4178 - val_accuracy: 0.8222\n",
      "Epoch 30/70\n",
      "4132/4132 [==============================] - 1s 287us/step - loss: 0.3904 - accuracy: 0.8328 - val_loss: 0.4169 - val_accuracy: 0.8207\n",
      "Epoch 31/70\n",
      "4132/4132 [==============================] - 1s 246us/step - loss: 0.3886 - accuracy: 0.8345 - val_loss: 0.4161 - val_accuracy: 0.8227\n",
      "Epoch 32/70\n",
      "4132/4132 [==============================] - 1s 241us/step - loss: 0.3865 - accuracy: 0.8349 - val_loss: 0.4123 - val_accuracy: 0.8237\n",
      "Epoch 33/70\n",
      "4132/4132 [==============================] - 1s 235us/step - loss: 0.3859 - accuracy: 0.8345 - val_loss: 0.4118 - val_accuracy: 0.8237\n",
      "Epoch 34/70\n",
      "4132/4132 [==============================] - 1s 294us/step - loss: 0.3843 - accuracy: 0.8337 - val_loss: 0.4100 - val_accuracy: 0.8217\n",
      "Epoch 35/70\n",
      "4132/4132 [==============================] - 1s 276us/step - loss: 0.3832 - accuracy: 0.8345 - val_loss: 0.4095 - val_accuracy: 0.8232\n",
      "Epoch 36/70\n",
      "4132/4132 [==============================] - 1s 236us/step - loss: 0.3815 - accuracy: 0.8335 - val_loss: 0.4094 - val_accuracy: 0.8237\n",
      "Epoch 37/70\n",
      "4132/4132 [==============================] - 1s 235us/step - loss: 0.3805 - accuracy: 0.8357 - val_loss: 0.4071 - val_accuracy: 0.8222\n",
      "Epoch 38/70\n",
      "4132/4132 [==============================] - 1s 303us/step - loss: 0.3789 - accuracy: 0.8362 - val_loss: 0.4057 - val_accuracy: 0.8232\n",
      "Epoch 39/70\n",
      "4132/4132 [==============================] - 1s 344us/step - loss: 0.3779 - accuracy: 0.8383 - val_loss: 0.4047 - val_accuracy: 0.8261\n",
      "Epoch 40/70\n",
      "4132/4132 [==============================] - 1s 307us/step - loss: 0.3760 - accuracy: 0.8400 - val_loss: 0.4028 - val_accuracy: 0.8266\n",
      "Epoch 41/70\n",
      "4132/4132 [==============================] - 1s 241us/step - loss: 0.3754 - accuracy: 0.8383 - val_loss: 0.4038 - val_accuracy: 0.8247\n",
      "Epoch 42/70\n",
      "4132/4132 [==============================] - 1s 238us/step - loss: 0.3746 - accuracy: 0.8395 - val_loss: 0.4009 - val_accuracy: 0.8276\n",
      "Epoch 43/70\n",
      "4132/4132 [==============================] - 1s 242us/step - loss: 0.3734 - accuracy: 0.8400 - val_loss: 0.4006 - val_accuracy: 0.8276\n",
      "Epoch 44/70\n",
      "4132/4132 [==============================] - 1s 254us/step - loss: 0.3722 - accuracy: 0.8422 - val_loss: 0.3990 - val_accuracy: 0.8281\n",
      "Epoch 45/70\n",
      "4132/4132 [==============================] - 1s 355us/step - loss: 0.3718 - accuracy: 0.8398 - val_loss: 0.3978 - val_accuracy: 0.8296\n",
      "Epoch 46/70\n",
      "4132/4132 [==============================] - 1s 261us/step - loss: 0.3709 - accuracy: 0.8400 - val_loss: 0.3980 - val_accuracy: 0.8291\n",
      "Epoch 47/70\n",
      "4132/4132 [==============================] - 1s 248us/step - loss: 0.3694 - accuracy: 0.8422 - val_loss: 0.3969 - val_accuracy: 0.8291\n",
      "Epoch 48/70\n",
      "4132/4132 [==============================] - 1s 248us/step - loss: 0.3685 - accuracy: 0.8400 - val_loss: 0.3961 - val_accuracy: 0.8296\n",
      "Epoch 49/70\n",
      "4132/4132 [==============================] - 1s 248us/step - loss: 0.3673 - accuracy: 0.8439 - val_loss: 0.3961 - val_accuracy: 0.8306\n",
      "Epoch 50/70\n",
      "4132/4132 [==============================] - 1s 328us/step - loss: 0.3664 - accuracy: 0.8420 - val_loss: 0.3941 - val_accuracy: 0.8306\n",
      "Epoch 51/70\n",
      "4132/4132 [==============================] - 1s 279us/step - loss: 0.3650 - accuracy: 0.8444 - val_loss: 0.3952 - val_accuracy: 0.8296\n",
      "Epoch 52/70\n",
      "4132/4132 [==============================] - 1s 293us/step - loss: 0.3637 - accuracy: 0.8427 - val_loss: 0.3926 - val_accuracy: 0.8306\n",
      "Epoch 53/70\n",
      "4132/4132 [==============================] - 1s 288us/step - loss: 0.3628 - accuracy: 0.8461 - val_loss: 0.3908 - val_accuracy: 0.8301\n",
      "Epoch 54/70\n",
      "4132/4132 [==============================] - 1s 241us/step - loss: 0.3616 - accuracy: 0.8478 - val_loss: 0.3901 - val_accuracy: 0.8320\n",
      "Epoch 55/70\n",
      "4132/4132 [==============================] - 1s 283us/step - loss: 0.3606 - accuracy: 0.8470 - val_loss: 0.3895 - val_accuracy: 0.8335\n",
      "Epoch 56/70\n",
      "4132/4132 [==============================] - 1s 269us/step - loss: 0.3596 - accuracy: 0.8502 - val_loss: 0.3899 - val_accuracy: 0.8350\n",
      "Epoch 57/70\n",
      "4132/4132 [==============================] - 1s 230us/step - loss: 0.3585 - accuracy: 0.8500 - val_loss: 0.3891 - val_accuracy: 0.8360\n",
      "Epoch 58/70\n",
      "4132/4132 [==============================] - 1s 230us/step - loss: 0.3577 - accuracy: 0.8533 - val_loss: 0.3881 - val_accuracy: 0.8364\n",
      "Epoch 59/70\n",
      "4132/4132 [==============================] - 1s 231us/step - loss: 0.3561 - accuracy: 0.8521 - val_loss: 0.3860 - val_accuracy: 0.8350\n",
      "Epoch 60/70\n",
      "4132/4132 [==============================] - 1s 231us/step - loss: 0.3553 - accuracy: 0.8536 - val_loss: 0.3854 - val_accuracy: 0.8374\n",
      "Epoch 61/70\n",
      "4132/4132 [==============================] - 1s 300us/step - loss: 0.3538 - accuracy: 0.8541 - val_loss: 0.3838 - val_accuracy: 0.8374\n",
      "Epoch 62/70\n",
      "4132/4132 [==============================] - 1s 257us/step - loss: 0.3524 - accuracy: 0.8545 - val_loss: 0.3833 - val_accuracy: 0.8374\n",
      "Epoch 63/70\n",
      "4132/4132 [==============================] - 1s 329us/step - loss: 0.3513 - accuracy: 0.8560 - val_loss: 0.3820 - val_accuracy: 0.8369\n",
      "Epoch 64/70\n",
      "4132/4132 [==============================] - 2s 373us/step - loss: 0.3504 - accuracy: 0.8550 - val_loss: 0.3807 - val_accuracy: 0.8379\n",
      "Epoch 65/70\n",
      "4132/4132 [==============================] - 2s 391us/step - loss: 0.3490 - accuracy: 0.8562 - val_loss: 0.3802 - val_accuracy: 0.8389\n",
      "Epoch 66/70\n",
      "4132/4132 [==============================] - 2s 424us/step - loss: 0.3478 - accuracy: 0.8577 - val_loss: 0.3790 - val_accuracy: 0.8394\n",
      "Epoch 67/70\n",
      "4132/4132 [==============================] - 1s 335us/step - loss: 0.3462 - accuracy: 0.8565 - val_loss: 0.3811 - val_accuracy: 0.8453\n",
      "Epoch 68/70\n",
      "4132/4132 [==============================] - 1s 261us/step - loss: 0.3459 - accuracy: 0.8584 - val_loss: 0.3783 - val_accuracy: 0.8438\n",
      "Epoch 69/70\n",
      "4132/4132 [==============================] - 1s 265us/step - loss: 0.3448 - accuracy: 0.8579 - val_loss: 0.3760 - val_accuracy: 0.8423\n",
      "Epoch 70/70\n",
      "4132/4132 [==============================] - 1s 353us/step - loss: 0.3438 - accuracy: 0.8577 - val_loss: 0.3753 - val_accuracy: 0.8448\n"
     ]
    }
   ],
   "source": [
    "m_hist=cl.fit(x_train,y_train,validation_split=0.33,batch_size=10,nb_epoch=70)"
   ]
  },
  {
   "cell_type": "code",
   "execution_count": 90,
   "metadata": {},
   "outputs": [],
   "source": [
    "y_pred=cl.predict(x_test)"
   ]
  },
  {
   "cell_type": "code",
   "execution_count": 105,
   "metadata": {},
   "outputs": [
    {
     "data": {
      "text/plain": [
       "array([[0.11149198],\n",
       "       [0.0273287 ],\n",
       "       [0.8390083 ],\n",
       "       ...,\n",
       "       [0.2630846 ],\n",
       "       [0.00422772],\n",
       "       [0.1141961 ]], dtype=float32)"
      ]
     },
     "execution_count": 105,
     "metadata": {},
     "output_type": "execute_result"
    }
   ],
   "source": [
    "y_pred"
   ]
  },
  {
   "cell_type": "code",
   "execution_count": 93,
   "metadata": {},
   "outputs": [],
   "source": [
    "yy_pred=y_pred.copy()"
   ]
  },
  {
   "cell_type": "code",
   "execution_count": 95,
   "metadata": {},
   "outputs": [],
   "source": [
    "yy_pred=(yy_pred>0.5)"
   ]
  },
  {
   "cell_type": "code",
   "execution_count": 104,
   "metadata": {},
   "outputs": [
    {
     "data": {
      "text/plain": [
       "array([[False],\n",
       "       [False],\n",
       "       [ True],\n",
       "       ...,\n",
       "       [False],\n",
       "       [False],\n",
       "       [False]])"
      ]
     },
     "execution_count": 104,
     "metadata": {},
     "output_type": "execute_result"
    }
   ],
   "source": [
    "yy_pred"
   ]
  },
  {
   "cell_type": "code",
   "execution_count": 100,
   "metadata": {},
   "outputs": [],
   "source": [
    "from sklearn.metrics import confusion_matrix\n",
    "cm=confusion_matrix(y_test,yy_pred)"
   ]
  },
  {
   "cell_type": "code",
   "execution_count": 101,
   "metadata": {},
   "outputs": [
    {
     "data": {
      "text/plain": [
       "array([[1170,   58],\n",
       "       [ 174,  141]], dtype=int64)"
      ]
     },
     "execution_count": 101,
     "metadata": {},
     "output_type": "execute_result"
    }
   ],
   "source": [
    "cm"
   ]
  },
  {
   "cell_type": "code",
   "execution_count": null,
   "metadata": {},
   "outputs": [],
   "source": []
  }
 ],
 "metadata": {
  "kernelspec": {
   "display_name": "Python 3",
   "language": "python",
   "name": "python3"
  },
  "language_info": {
   "codemirror_mode": {
    "name": "ipython",
    "version": 3
   },
   "file_extension": ".py",
   "mimetype": "text/x-python",
   "name": "python",
   "nbconvert_exporter": "python",
   "pygments_lexer": "ipython3",
   "version": "3.7.7"
  }
 },
 "nbformat": 4,
 "nbformat_minor": 4
}
